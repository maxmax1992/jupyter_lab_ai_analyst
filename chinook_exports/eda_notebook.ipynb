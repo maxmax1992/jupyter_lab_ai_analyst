{
 "cells": [
  {
   "cell_type": "code",
   "execution_count": null,
   "id": "42b10a97-d089-4817-a557-01d42e9c2b5a",
   "metadata": {},
   "outputs": [],
   "source": [
    "# Variable definitions for Chinook EDA task\n",
    "var1 = 'sample1'\n",
    "var2 = 42\n",
    "var3 = [1, 2, 2, 3, 4]\n"
   ]
  },
  {
   "cell_type": "code",
   "execution_count": null,
   "id": "2e4ff22a-f4c9-4a05-b9b4-d2975a5ce933",
   "metadata": {},
   "outputs": [],
   "source": [
    "# Print variables for verification\n",
    "print(var1)\n",
    "print(var2)\n",
    "print(var3)"
   ]
  },
  {
   "cell_type": "code",
   "execution_count": null,
   "id": "78307a86-be01-4f4b-9e93-41b76f1e7303",
   "metadata": {},
   "outputs": [],
   "source": []
  },
  {
   "cell_type": "code",
   "execution_count": null,
   "id": "762645b6-0e46-4ad2-ba82-180bc5947065",
   "metadata": {},
   "outputs": [],
   "source": []
  },
  {
   "cell_type": "code",
   "execution_count": null,
   "id": "9e0f9bc8-fcd2-4621-b4b8-8d1b1595d10f",
   "metadata": {},
   "outputs": [],
   "source": []
  },
  {
   "cell_type": "code",
   "execution_count": null,
   "id": "37a34481-d9e9-4435-9499-fa154460b0fb",
   "metadata": {},
   "outputs": [],
   "source": []
  }
 ],
 "metadata": {
  "kernelspec": {
   "display_name": "SmartBI BrowserUse Agent (.venv)",
   "language": "python",
   "name": "smartbi_browseruse_agent"
  },
  "language_info": {
   "codemirror_mode": {
    "name": "ipython",
    "version": 3
   },
   "file_extension": ".py",
   "mimetype": "text/x-python",
   "name": "python",
   "nbconvert_exporter": "python",
   "pygments_lexer": "ipython3",
   "version": "3.11.12"
  }
 },
 "nbformat": 4,
 "nbformat_minor": 5
}
